{
 "cells": [
  {
   "cell_type": "code",
   "execution_count": 7,
   "id": "038ccca2",
   "metadata": {},
   "outputs": [],
   "source": [
    "import os \n",
    "import sys\n",
    "from openai import OpenAI"
   ]
  },
  {
   "cell_type": "code",
   "execution_count": null,
   "id": "5f1aae1c",
   "metadata": {},
   "outputs": [],
   "source": [
    "def get_openai_client():\n",
    "    \"\"\"\n",
    "    Initialize and return an OpenAI client.\n",
    "    \"\"\"\n",
    "    api_key = os.getenv(\"OPENAI_API_KEY\")\n",
    "    if not api_key:\n",
    "        api_key= \"\"\n",
    "    client = OpenAI(api_key=api_key)\n",
    "    return client\n",
    "def get_response(client, prompt):\n",
    "    \"\"\"\n",
    "    Get a response from the OpenAI client based on the provided prompt.\n",
    "    \"\"\"\n",
    "    # response = client.responses.create(\n",
    "    #     model=\"gpt-4.1\",\n",
    "    #     input=prompt\n",
    "    # )\n",
    "    response = client.chat.completions.create(\n",
    "        model=\"gpt-4o-mini\",\n",
    "        store=True,\n",
    "        messages=[\n",
    "            {\"role\": \"user\", \"content\": prompt}\n",
    "        ]\n",
    "    )\n",
    "    return response.choices[0].message.content"
   ]
  },
  {
   "cell_type": "code",
   "execution_count": 37,
   "id": "91d3d076",
   "metadata": {},
   "outputs": [
    {
     "name": "stdout",
     "output_type": "stream",
     "text": [
      "Response: The capital of France is Paris.\n"
     ]
    }
   ],
   "source": [
    "client=get_openai_client()\n",
    "prompt = \"What is the capital of France?\"\n",
    "response = get_response(client, prompt)\n",
    "print(f\"Response: {response}\")"
   ]
  }
 ],
 "metadata": {
  "kernelspec": {
   "display_name": "Python 3",
   "language": "python",
   "name": "python3"
  },
  "language_info": {
   "codemirror_mode": {
    "name": "ipython",
    "version": 3
   },
   "file_extension": ".py",
   "mimetype": "text/x-python",
   "name": "python",
   "nbconvert_exporter": "python",
   "pygments_lexer": "ipython3",
   "version": "3.12.10"
  }
 },
 "nbformat": 4,
 "nbformat_minor": 5
}
